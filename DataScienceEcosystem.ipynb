{
 "cells": [
  {
   "cell_type": "markdown",
   "id": "36578afc-e773-4341-8942-1153d216fee1",
   "metadata": {},
   "source": [
    "# Data Science Tools and Ecosystem"
   ]
  },
  {
   "cell_type": "markdown",
   "id": "db44368e-aed6-4e1d-9e0a-2ed290a1a57e",
   "metadata": {},
   "source": [
    "In this notebook, Data Science Tools and Ecosystem are summarized."
   ]
  },
  {
   "cell_type": "markdown",
   "id": "9ab53780-ef3a-4752-a6bb-b65fed770f0a",
   "metadata": {},
   "source": [
    "**Objectives:**\n",
    "- List popular languages for Data Science\n",
    "- List popular libraries in Data Science\n",
    "- List popular Data Science tools\n",
    "- Execute basic arithmetic operations in Python"
   ]
  },
  {
   "cell_type": "markdown",
   "id": "41e1ef79-b087-46bf-b79b-0be85468e84a",
   "metadata": {},
   "source": [
    "Some of the popular languages that Data Scientists use are:\n",
    "1. Python\n",
    "2. Julia\n",
    "3. R\n",
    "4. SQL"
   ]
  },
  {
   "cell_type": "markdown",
   "id": "90df16fc-eb09-4f8c-acb8-92b9348751eb",
   "metadata": {},
   "source": [
    "Some of the commonly used libraries used by Data Scientists include:\n",
    "1. GGally\n",
    "2. Numpy\n",
    "3. Matplotlib\n",
    "4. Pandas"
   ]
  },
  {
   "cell_type": "markdown",
   "id": "bc09fdf9-a5be-4599-b2e6-df504a1f6c21",
   "metadata": {},
   "source": [
    "| Data Science Tools |\n",
    " --------------------\n",
    "| Apache Hadoop      |\n",
    "| MongoDB            |\n",
    "| PowerBI            |"
   ]
  },
  {
   "cell_type": "markdown",
   "id": "e3eb627e-27b0-4ac2-9413-7c0eef71b1db",
   "metadata": {},
   "source": [
    "### Below are a few examples of evaluating arithmetic expressions in Python"
   ]
  },
  {
   "cell_type": "code",
   "execution_count": 2,
   "id": "8698d690-2736-44f7-a763-5d20f9358393",
   "metadata": {
    "tags": []
   },
   "outputs": [
    {
     "data": {
      "text/plain": [
       "17"
      ]
     },
     "execution_count": 2,
     "metadata": {},
     "output_type": "execute_result"
    }
   ],
   "source": [
    "# This a simple arithmetic expression to mutiply then add integers\n",
    "(3*4)+5"
   ]
  },
  {
   "cell_type": "code",
   "execution_count": 3,
   "id": "5fcf997e-b632-415a-b689-0915e251af67",
   "metadata": {
    "tags": []
   },
   "outputs": [
    {
     "name": "stdout",
     "output_type": "stream",
     "text": [
      "3.3333333333333335\n"
     ]
    }
   ],
   "source": [
    "# This will convert 200 minutes to hours by diving by 60\n",
    "def hours(minutes):\n",
    "    return minutes / 60\n",
    "\n",
    "result = hours(200)\n",
    "print(result)"
   ]
  },
  {
   "cell_type": "markdown",
   "id": "9e233c31-ed26-4a7a-a9df-513e0ee7cd36",
   "metadata": {},
   "source": [
    "## Author\n",
    "Aseem Deshpande"
   ]
  },
  {
   "cell_type": "code",
   "execution_count": null,
   "id": "5eddc008-2209-4b90-9dd6-50ef20b6b312",
   "metadata": {},
   "outputs": [],
   "source": []
  }
 ],
 "metadata": {
  "kernelspec": {
   "display_name": "Python",
   "language": "python",
   "name": "conda-env-python-py"
  },
  "language_info": {
   "codemirror_mode": {
    "name": "ipython",
    "version": 3
   },
   "file_extension": ".py",
   "mimetype": "text/x-python",
   "name": "python",
   "nbconvert_exporter": "python",
   "pygments_lexer": "ipython3",
   "version": "3.7.12"
  }
 },
 "nbformat": 4,
 "nbformat_minor": 5
}
